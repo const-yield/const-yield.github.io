{
 "cells": [
  {
   "cell_type": "markdown",
   "metadata": {
    "collapsed": true
   },
   "source": [
    "### Generate synthetic data points"
   ]
  },
  {
   "cell_type": "markdown",
   "metadata": {},
   "source": [
    "Data points are sampled from three normal distributions."
   ]
  },
  {
   "cell_type": "code",
   "execution_count": 2,
   "metadata": {
    "collapsed": true
   },
   "outputs": [],
   "source": [
    "import numpy as np\n",
    "import numpy.random as rand\n",
    "import matplotlib.pyplot as plt"
   ]
  },
  {
   "cell_type": "code",
   "execution_count": 3,
   "metadata": {
    "collapsed": true
   },
   "outputs": [],
   "source": [
    "matplotlib inline"
   ]
  },
  {
   "cell_type": "code",
   "execution_count": 4,
   "metadata": {
    "collapsed": true
   },
   "outputs": [],
   "source": [
    "mu1, mu2, mu3 = [15,20], [24,25], [38,40]\n",
    "cov = [[10, 0], [0, 10]]  \n",
    "n_samples = 5000"
   ]
  },
  {
   "cell_type": "code",
   "execution_count": 5,
   "metadata": {
    "collapsed": true
   },
   "outputs": [],
   "source": [
    "data1 = rand.multivariate_normal(mu1, cov, n_samples)\n",
    "data2 = rand.multivariate_normal(mu2, cov, n_samples)\n",
    "data3 = rand.multivariate_normal(mu3, cov, n_samples)\n",
    "data = np.vstack((data1, data2, data3))"
   ]
  },
  {
   "cell_type": "code",
   "execution_count": 19,
   "metadata": {
    "collapsed": false
   },
   "outputs": [
    {
     "data": {
      "text/plain": [
       "<matplotlib.legend.Legend at 0x811b748>"
      ]
     },
     "execution_count": 19,
     "metadata": {},
     "output_type": "execute_result"
    },
    {
     "data": {
      "image/png": "[encoded data removed]",
      "text/plain": [
       "<matplotlib.figure.Figure at 0x7d3bd68>"
      ]
     },
     "metadata": {},
     "output_type": "display_data"
    }
   ],
   "source": [
    "plt.axis('equal')\n",
    "plt.plot(data1[:,0], data1[:,1], '^b', label='Class_1')\n",
    "plt.plot(data2[:,0], data2[:,1], 'sr', label='Class_2')\n",
    "plt.plot(data3[:,0], data3[:,1], 'ok', label='Class_3')\n",
    "plt.title('Original samples')\n",
    "plt.legend(loc='best')"
   ]
  },
  {
   "cell_type": "markdown",
   "metadata": {},
   "source": [
    "### Compute mean values "
   ]
  },
  {
   "cell_type": "code",
   "execution_count": 7,
   "metadata": {
    "collapsed": true
   },
   "outputs": [],
   "source": [
    "mu1 = np.mean(data1, 0)\n",
    "mu2 = np.mean(data2, 0)\n",
    "mu3 = np.mean(data3, 0)\n",
    "mu  = np.mean(data, 0)"
   ]
  },
  {
   "cell_type": "markdown",
   "metadata": {},
   "source": [
    "### Compute the between-class scatter matrix $S_b$ "
   ]
  },
  {
   "cell_type": "markdown",
   "metadata": {},
   "source": [
    "$S_b = \\sum_{i}^{C} n_i (\\mu^{i} - \\mu)(\\mu^{i} - \\mu)^T$"
   ]
  },
  {
   "cell_type": "code",
   "execution_count": 8,
   "metadata": {
    "collapsed": false
   },
   "outputs": [],
   "source": [
    "s1 = np.outer(mu1-mu, mu1-mu)*data1.shape[0] \n",
    "s2 = np.outer(mu2-mu, mu2-mu)*data2.shape[0] \n",
    "s3 = np.outer(mu3-mu, mu3-mu)*data3.shape[0] \n",
    "S_b = s1 + s2 + s3"
   ]
  },
  {
   "cell_type": "markdown",
   "metadata": {},
   "source": [
    "### Compute the within-class scatter matrix $S_w$ \n"
   ]
  },
  {
   "cell_type": "markdown",
   "metadata": {},
   "source": [
    "$S_w = \\sum_{i=1}^{C} \\sum_{j=1}^{n_i} (x^{i}_j - \\mu_i)(x^{i}_j - \\mu_i)^T$ "
   ]
  },
  {
   "cell_type": "code",
   "execution_count": 9,
   "metadata": {
    "collapsed": false
   },
   "outputs": [],
   "source": [
    "def compute_within_scatter_matrix(data, mu):\n",
    "    \"\"\" \n",
    "    Compute the within-class scatter matrix for a given class\n",
    "    :param data: a numpy matrix of (n_samples, n_sample_dimensions)\n",
    "    :param mu:  a list of n_sample_dimensions \n",
    "    \"\"\"\n",
    "    matrix = np.zeros((data.shape[1], data.shape[1]))\n",
    "    spread = data - mu\n",
    "    for s in range(spread.shape[0]):\n",
    "        matrix += np.outer(spread[s,:], spread[s,:])\n",
    "    return matrix "
   ]
  },
  {
   "cell_type": "code",
   "execution_count": 10,
   "metadata": {
    "collapsed": false
   },
   "outputs": [],
   "source": [
    "s1 = compute_within_scatter_matrix(data1, mu1)\n",
    "s2 = compute_within_scatter_matrix(data2, mu2)\n",
    "s3 = compute_within_scatter_matrix(data3, mu3)\n",
    "S_w = s1 + s2 + s3"
   ]
  },
  {
   "cell_type": "markdown",
   "metadata": {},
   "source": [
    "### Solve the generalized eigenvalue problem for the matrix $S^{−1}_{w}S_{b}$\n"
   ]
  },
  {
   "cell_type": "code",
   "execution_count": 11,
   "metadata": {
    "collapsed": false
   },
   "outputs": [],
   "source": [
    "eig_vals, eig_vecs = np.linalg.eig(np.linalg.inv(S_w).dot(S_b))"
   ]
  },
  {
   "cell_type": "code",
   "execution_count": 12,
   "metadata": {
    "collapsed": false
   },
   "outputs": [
    {
     "name": "stdout",
     "output_type": "stream",
     "text": [
      "Eigvector #0: [ 0.74758134  0.66417027] (Eigvalue:16.076)\n",
      "Eigvector #1: [-0.6710707   0.74139336] (Eigvalue:0.111)\n"
     ]
    }
   ],
   "source": [
    "for eig_idx, eig_val in enumerate(eig_vals): \n",
    "    print('Eigvector #{}: {} (Eigvalue:{:.3f})'.format(eig_idx, eig_vecs[:, eig_idx], eig_val))"
   ]
  },
  {
   "cell_type": "markdown",
   "metadata": {},
   "source": [
    "### Double-check the computed eigen-vectors and eigen-values "
   ]
  },
  {
   "cell_type": "code",
   "execution_count": 13,
   "metadata": {
    "collapsed": false
   },
   "outputs": [],
   "source": [
    "S = np.linalg.inv(S_w).dot(S_b)\n",
    "for eig_idx, eig_val in enumerate(eig_vals):  \n",
    "    eig_vec = eig_vecs[:, eig_idx]\n",
    "    np.testing.assert_array_almost_equal(S.dot(eig_vec), eig_val*eig_vec, decimal=6, err_msg='', verbose=True)"
   ]
  },
  {
   "cell_type": "markdown",
   "metadata": {},
   "source": [
    "### Sort the eigenvectors by decreasing eigenvalues"
   ]
  },
  {
   "cell_type": "code",
   "execution_count": 14,
   "metadata": {
    "collapsed": false
   },
   "outputs": [
    {
     "name": "stdout",
     "output_type": "stream",
     "text": [
      "Eigvector: [ 0.74758134  0.66417027] (Eigvalue:\t16.076,\t99.32% variance explained)\n",
      "Eigvector: [-0.6710707   0.74139336] (Eigvalue:\t0.111,\t0.68% variance explained)\n"
     ]
    }
   ],
   "source": [
    "eig_pairs = [(np.abs(eig_vals[i]), eig_vecs[:,i]) for i in range(len(eig_vals))]\n",
    "eig_pairs = sorted( eig_pairs, key=lambda x:x[0], reverse=True)\n",
    "eigv_sum = sum(eig_vals)\n",
    "for eig_val, eig_vec in eig_pairs:\n",
    "    print('Eigvector: {} (Eigvalue:\\t{:.3f},\\t{:.2%} variance explained)'.format(eig_vec, eig_val, (eig_val/eigv_sum)))"
   ]
  },
  {
   "cell_type": "markdown",
   "metadata": {},
   "source": [
    "If we take a look at the eigenvalues, we can already see that the second eigenvalue are much smaller than the first one. \n",
    "Since Rank(AB) $\\leq$ Rank(A), and Rank(AB) $\\leq$ Rank(B), we have Rank($S_w^{-1}S_b$) $\\leq$ Rank($S_b$). Due to that $S_b$ is the sum of $C$ matrices with rank 1 or less, Rank($S_b$) can be $C$-1 at most, where $C$ is the number of classes. This means that FDA can find at most $C$-1 meaningful features. The remining features discovered by FDA are arbitrary. "
   ]
  },
  {
   "cell_type": "markdown",
   "metadata": {},
   "source": [
    "### Choose m eigenvectors with the largest eigenvalues"
   ]
  },
  {
   "cell_type": "markdown",
   "metadata": {},
   "source": [
    "After sorting the eigenpairs by decreasing eigenvalues, we can then construct our $d \\times m$-dimensional transformation matrix $W$.\n",
    "Here we choose the top most informative eigven-pair, as its eigenvalue explains 99.41% of the variance. As a result, the original d-dimensional (d=2) data points will be projected to a m-dimensional features space (m=1). \n"
   ]
  },
  {
   "cell_type": "code",
   "execution_count": 15,
   "metadata": {
    "collapsed": false
   },
   "outputs": [
    {
     "name": "stdout",
     "output_type": "stream",
     "text": [
      "('Matrix W:\\n', array([ 0.74758134,  0.66417027]))\n"
     ]
    }
   ],
   "source": [
    "W = eig_pairs[0][1]\n",
    "print('Matrix W:\\n', W.real)"
   ]
  },
  {
   "cell_type": "markdown",
   "metadata": {},
   "source": [
    "### Transforming the samples onto the new space"
   ]
  },
  {
   "cell_type": "markdown",
   "metadata": {},
   "source": [
    "As the last step, we use the 1 $\\times$ 2 dimensional matrix $W$ to transform our samples onto the embedding space via the equation $Y = W^TX$. FDA learns a linear transformation matrix $W \\in R^{d \\times m} (m \\ll d)$， which maps each $d$-dimensional (d=2)\n",
    "$x_i$  to a $m$-dimensional (m=1) $y_i$: $y_i = W^Tx_j $. "
   ]
  },
  {
   "cell_type": "code",
   "execution_count": 16,
   "metadata": {
    "collapsed": false
   },
   "outputs": [],
   "source": [
    "X1_fda = W.dot(data1.T)\n",
    "X2_fda = W.dot(data2.T)\n",
    "X3_fda = W.dot(data3.T)"
   ]
  },
  {
   "cell_type": "markdown",
   "metadata": {},
   "source": [
    "Now the transformed samples are scalar values. They are essentially the projection of the original data samples on the selected eigen vector, which corresponds to a straight line. To better visualize the projection, we visualize the transformed samples on the straight line under the original 2-dimensional space. "
   ]
  },
  {
   "cell_type": "code",
   "execution_count": 17,
   "metadata": {
    "collapsed": false
   },
   "outputs": [],
   "source": [
    "slope = W[1]/W[0] \n",
    "Y1_fda = slope * X1_fda\n",
    "Y2_fda = slope * X2_fda\n",
    "Y3_fda = slope * X3_fda "
   ]
  },
  {
   "cell_type": "code",
   "execution_count": 20,
   "metadata": {
    "collapsed": false
   },
   "outputs": [
    {
     "data": {
      "text/plain": [
       "<matplotlib.legend.Legend at 0x82bcda0>"
      ]
     },
     "execution_count": 20,
     "metadata": {},
     "output_type": "execute_result"
    },
    {
     "data": {
      "image/png": "[encoded data removed]",
      "text/plain": [
       "<matplotlib.figure.Figure at 0x79ab668>"
      ]
     },
     "metadata": {},
     "output_type": "display_data"
    }
   ],
   "source": [
    "plt.axis('equal')\n",
    "plt.plot(X1_fda, Y1_fda, '^b', label='Class_1')\n",
    "plt.plot(X2_fda, Y2_fda, 'sr', label='Class_2')\n",
    "plt.plot(X3_fda, Y3_fda, 'ok', label='Class_3')\n",
    "plt.title('Projected samples')\n",
    "plt.legend(loc='best')"
   ]
  },
  {
   "cell_type": "markdown",
   "metadata": {},
   "source": [
    "From the plot we can see that the projected samples retain most of the 'intrinsic information' from the original data samples. Dots with the same color stay together, while those with different colours stay away."
   ]
  },
  {
   "cell_type": "code",
   "execution_count": null,
   "metadata": {
    "collapsed": true
   },
   "outputs": [],
   "source": []
  }
 ],
 "metadata": {
  "kernelspec": {
   "display_name": "Python 2",
   "language": "python",
   "name": "python2"
  },
  "language_info": {
   "codemirror_mode": {
    "name": "ipython",
    "version": 2
   },
   "file_extension": ".py",
   "mimetype": "text/x-python",
   "name": "python",
   "nbconvert_exporter": "python",
   "pygments_lexer": "ipython2",
   "version": "2.7.12"
  }
 },
 "nbformat": 4,
 "nbformat_minor": 0
}
